{
 "cells": [
  {
   "cell_type": "code",
   "execution_count": 1,
   "id": "883ccf00",
   "metadata": {},
   "outputs": [
    {
     "name": "stderr",
     "output_type": "stream",
     "text": [
      "Exception in Tkinter callback\n",
      "Traceback (most recent call last):\n",
      "  File \"C:\\Users\\user\\anaconda3\\Lib\\tkinter\\__init__.py\", line 1948, in __call__\n",
      "    return self.func(*args)\n",
      "           ^^^^^^^^^^^^^^^^\n",
      "  File \"C:\\Users\\user\\AppData\\Local\\Temp\\ipykernel_12060\\53937915.py\", line 9, in open_file\n",
      "    with open(file_path,\"r\") as file:\n",
      "         ^^^^^^^^^^^^^^^^^^^\n",
      "  File \"C:\\Users\\user\\anaconda3\\Lib\\site-packages\\IPython\\core\\interactiveshell.py\", line 286, in _modified_open\n",
      "    return io_open(file, *args, **kwargs)\n",
      "           ^^^^^^^^^^^^^^^^^^^^^^^^^^^^^^\n",
      "FileNotFoundError: [Errno 2] No such file or directory: ''\n"
     ]
    }
   ],
   "source": [
    "from tkinter import *\n",
    "from tkinter import Menu\n",
    "from tkinter import filedialog\n",
    "def new_file():\n",
    "    text.delete(1.0,END)\n",
    "    \n",
    "def open_file():\n",
    "    file_path=filedialog.askopenfilename()\n",
    "    with open(file_path,\"r\") as file:\n",
    "        content=file.read()\n",
    "        text.delete(1.0,END)\n",
    "        text.insert(END,content)\n",
    "            \n",
    "\n",
    "    \n",
    "window = Tk()\n",
    "window.geometry(\"700x600+500+100\")\n",
    "window.title(\"Notepad\")\n",
    "\n",
    "text=Text(window,wrap=\"word\")\n",
    "text.grid(row=0,column=0,sticky=\"nsew\")\n",
    "\n",
    "\n",
    "menu = Menu(window)\n",
    "window.config(menu=menu)\n",
    "\n",
    "file_item=Menu(menu,tearoff=0)\n",
    "menu.add_cascade(label='File', menu=file_item)\n",
    "file_item.add_command(label='New',command=new_file)\n",
    "file_item.add_command(label=\"Open\",command=open_file)\n",
    "\n",
    "\n",
    "edit_item=Menu(menu,tearoff=0)\n",
    "menu.add_cascade(label='Edit', menu=edit_item)\n",
    "edit_item.add_command(label='Copy')\n",
    "edit_item.add_command(label=\"Paste\")\n",
    "edit_item.add_command(label=\"Cut\")\n",
    "\n",
    "window.columnconfigure(0,weight=1)\n",
    "window.rowconfigure(0,weight=1)\n",
    "\n",
    "\n",
    "\n",
    "\n",
    "window.mainloop()"
   ]
  },
  {
   "cell_type": "code",
   "execution_count": null,
   "id": "0af79c62",
   "metadata": {},
   "outputs": [],
   "source": []
  },
  {
   "cell_type": "code",
   "execution_count": null,
   "id": "f4ea4252",
   "metadata": {},
   "outputs": [],
   "source": []
  }
 ],
 "metadata": {
  "kernelspec": {
   "display_name": "Python 3 (ipykernel)",
   "language": "python",
   "name": "python3"
  },
  "language_info": {
   "codemirror_mode": {
    "name": "ipython",
    "version": 3
   },
   "file_extension": ".py",
   "mimetype": "text/x-python",
   "name": "python",
   "nbconvert_exporter": "python",
   "pygments_lexer": "ipython3",
   "version": "3.11.5"
  }
 },
 "nbformat": 4,
 "nbformat_minor": 5
}
